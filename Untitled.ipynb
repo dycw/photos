{
 "cells": [
  {
   "cell_type": "code",
   "execution_count": 1,
   "id": "d3dba781-3999-4a30-bc00-3a9b19a2562b",
   "metadata": {
    "execution": {
     "iopub.execute_input": "2022-06-25T13:38:05.275269Z",
     "iopub.status.busy": "2022-06-25T13:38:05.274937Z",
     "iopub.status.idle": "2022-06-25T13:38:05.298909Z",
     "shell.execute_reply": "2022-06-25T13:38:05.296909Z",
     "shell.execute_reply.started": "2022-06-25T13:38:05.275237Z"
    },
    "tags": []
   },
   "outputs": [],
   "source": [
    "import pathlib\n",
    "path = pathlib.Path('/data/derek/Dropbox/Camera Uploads/Remainder/2020-09/2020-09-25 20.18.18.png')"
   ]
  },
  {
   "cell_type": "code",
   "execution_count": 2,
   "id": "862a6a46-9c91-4599-b549-a4ddf64dada8",
   "metadata": {
    "execution": {
     "iopub.execute_input": "2022-06-25T13:38:05.300489Z",
     "iopub.status.busy": "2022-06-25T13:38:05.300276Z",
     "iopub.status.idle": "2022-06-25T13:38:05.327495Z",
     "shell.execute_reply": "2022-06-25T13:38:05.326846Z",
     "shell.execute_reply.started": "2022-06-25T13:38:05.300470Z"
    },
    "tags": []
   },
   "outputs": [
    {
     "data": {
      "text/plain": [
       "'foo.png'"
      ]
     },
     "execution_count": 2,
     "metadata": {},
     "output_type": "execute_result"
    }
   ],
   "source": [
    "import shutil\n",
    "shutil.copy(path, 'foo.png')"
   ]
  },
  {
   "cell_type": "code",
   "execution_count": 7,
   "id": "20f82f55-282e-4dcc-aebc-ed351d489555",
   "metadata": {
    "execution": {
     "iopub.execute_input": "2022-06-25T13:40:50.204461Z",
     "iopub.status.busy": "2022-06-25T13:40:50.204059Z",
     "iopub.status.idle": "2022-06-25T13:40:50.227391Z",
     "shell.execute_reply": "2022-06-25T13:40:50.226559Z",
     "shell.execute_reply.started": "2022-06-25T13:40:50.204420Z"
    },
    "tags": []
   },
   "outputs": [
    {
     "data": {
      "text/plain": [
       "'src/tests/assets/2020-09-25 20.18.18.png'"
      ]
     },
     "execution_count": 7,
     "metadata": {},
     "output_type": "execute_result"
    }
   ],
   "source": [
    "\n",
    "shutil.copy(path, 'src/tests/assets/2020-09-25 20.18.18.png')"
   ]
  },
  {
   "cell_type": "code",
   "execution_count": null,
   "id": "db3962c4-f315-4fd3-b2dd-6f4ffe1145de",
   "metadata": {},
   "outputs": [],
   "source": []
  },
  {
   "cell_type": "code",
   "execution_count": 4,
   "id": "a16982c9-3b02-4765-89e8-bf0e469332bc",
   "metadata": {
    "execution": {
     "iopub.execute_input": "2022-06-25T13:38:12.669550Z",
     "iopub.status.busy": "2022-06-25T13:38:12.669151Z",
     "iopub.status.idle": "2022-06-25T13:38:12.690524Z",
     "shell.execute_reply": "2022-06-25T13:38:12.689532Z",
     "shell.execute_reply.started": "2022-06-25T13:38:12.669519Z"
    },
    "tags": []
   },
   "outputs": [
    {
     "data": {
      "text/plain": [
       "2816582"
      ]
     },
     "execution_count": 4,
     "metadata": {},
     "output_type": "execute_result"
    },
    {
     "data": {
      "text/plain": [
       "2816582"
      ]
     },
     "execution_count": 4,
     "metadata": {},
     "output_type": "execute_result"
    }
   ],
   "source": [
    "path.stat().st_size\n",
    "pathlib.Path('foo.png').stat().st_size"
   ]
  },
  {
   "cell_type": "code",
   "execution_count": null,
   "id": "7fdfdf6e-2826-42ec-bcaa-f2b01f608198",
   "metadata": {
    "tags": []
   },
   "outputs": [],
   "source": [
    "from photos.utilities import *\n",
    "\n",
    "im=open_image('foo.png')\n",
    "get_parsed_exif_tags(im)"
   ]
  },
  {
   "cell_type": "code",
   "execution_count": 5,
   "id": "08e206cc-3b4e-42e7-a4b7-ca291f20ad6e",
   "metadata": {
    "execution": {
     "iopub.execute_input": "2022-06-25T13:38:16.191830Z",
     "iopub.status.busy": "2022-06-25T13:38:16.190835Z",
     "iopub.status.idle": "2022-06-25T13:38:16.258286Z",
     "shell.execute_reply": "2022-06-25T13:38:16.257330Z",
     "shell.execute_reply.started": "2022-06-25T13:38:16.191797Z"
    },
    "tags": []
   },
   "outputs": [
    {
     "data": {
      "text/plain": [
       "{'Exif.Image.Orientation': '1',\n",
       " 'Exif.Image.ExifTag': '38',\n",
       " 'Exif.Photo.ColorSpace': '1',\n",
       " 'Exif.Photo.PixelXDimension': '1620',\n",
       " 'Exif.Photo.PixelYDimension': '1440'}"
      ]
     },
     "execution_count": 5,
     "metadata": {},
     "output_type": "execute_result"
    },
    {
     "data": {
      "text/plain": [
       "{'Exif.Image.Orientation': '1',\n",
       " 'Exif.Image.ExifTag': '38',\n",
       " 'Exif.Photo.ColorSpace': '1',\n",
       " 'Exif.Photo.PixelXDimension': '1620',\n",
       " 'Exif.Photo.PixelYDimension': '1440',\n",
       " 'Exif.Image.DateTime': '2000:01:02 05:04:05'}"
      ]
     },
     "execution_count": 5,
     "metadata": {},
     "output_type": "execute_result"
    }
   ],
   "source": [
    "import pyexiv2\n",
    "im=pyexiv2.Image('foo.png')\n",
    "im.read_exif()\n",
    "im.modify_exif({'Exif.Image.DateTime':'2000:01:02 05:04:05'})\n",
    "im.read_exif()"
   ]
  },
  {
   "cell_type": "code",
   "execution_count": 6,
   "id": "b191d96a-dbe8-48b7-9e71-24d8282fb8ad",
   "metadata": {
    "execution": {
     "iopub.execute_input": "2022-06-25T13:38:23.134741Z",
     "iopub.status.busy": "2022-06-25T13:38:23.134361Z",
     "iopub.status.idle": "2022-06-25T13:38:23.155419Z",
     "shell.execute_reply": "2022-06-25T13:38:23.154605Z",
     "shell.execute_reply.started": "2022-06-25T13:38:23.134710Z"
    },
    "tags": []
   },
   "outputs": [
    {
     "data": {
      "text/plain": [
       "2816582"
      ]
     },
     "execution_count": 6,
     "metadata": {},
     "output_type": "execute_result"
    },
    {
     "data": {
      "text/plain": [
       "2816643"
      ]
     },
     "execution_count": 6,
     "metadata": {},
     "output_type": "execute_result"
    }
   ],
   "source": [
    "path.stat().st_size\n",
    "pathlib.Path('foo.png').stat().st_size"
   ]
  }
 ],
 "metadata": {
  "kernelspec": {
   "display_name": "Python 3 (ipykernel)",
   "language": "python",
   "name": "python3"
  },
  "language_info": {
   "codemirror_mode": {
    "name": "ipython",
    "version": 3
   },
   "file_extension": ".py",
   "mimetype": "text/x-python",
   "name": "python",
   "nbconvert_exporter": "python",
   "pygments_lexer": "ipython3",
   "version": "3.10.4"
  }
 },
 "nbformat": 4,
 "nbformat_minor": 5
}
