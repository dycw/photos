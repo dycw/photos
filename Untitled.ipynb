{
 "cells": [
  {
   "cell_type": "code",
   "execution_count": 1,
   "id": "d3dba781-3999-4a30-bc00-3a9b19a2562b",
   "metadata": {
    "execution": {
     "iopub.execute_input": "2022-06-26T01:37:32.781267Z",
     "iopub.status.busy": "2022-06-26T01:37:32.780951Z",
     "iopub.status.idle": "2022-06-26T01:37:32.866595Z",
     "shell.execute_reply": "2022-06-26T01:37:32.865756Z",
     "shell.execute_reply.started": "2022-06-26T01:37:32.781234Z"
    },
    "tags": []
   },
   "outputs": [],
   "source": [
    "import pathlib\n",
    "from photos.constants import *\n",
    "from photos.utilities import *\n",
    "\n"
   ]
  },
  {
   "cell_type": "code",
   "execution_count": 5,
   "id": "ca7647af-ae07-40f8-aeab-119852fea801",
   "metadata": {
    "execution": {
     "iopub.execute_input": "2022-06-26T01:40:34.050030Z",
     "iopub.status.busy": "2022-06-26T01:40:34.049640Z",
     "iopub.status.idle": "2022-06-26T01:40:34.095602Z",
     "shell.execute_reply": "2022-06-26T01:40:34.094769Z",
     "shell.execute_reply.started": "2022-06-26T01:40:34.049997Z"
    },
    "tags": []
   },
   "outputs": [],
   "source": [
    "path = Path('/data/derek/Dropbox/Apps/Google Download Your Data/2/Takeout/Google Photos/Photos from 2014/2014.09.19-21 — Warsaw — 2014.09.20 16.22.53.jpg')"
   ]
  },
  {
   "cell_type": "code",
   "execution_count": 8,
   "id": "08e206cc-3b4e-42e7-a4b7-ca291f20ad6e",
   "metadata": {
    "execution": {
     "iopub.execute_input": "2022-06-26T01:40:46.076832Z",
     "iopub.status.busy": "2022-06-26T01:40:46.076439Z",
     "iopub.status.idle": "2022-06-26T01:40:46.099762Z",
     "shell.execute_reply": "2022-06-26T01:40:46.098593Z",
     "shell.execute_reply.started": "2022-06-26T01:40:46.076799Z"
    },
    "tags": []
   },
   "outputs": [
    {
     "data": {
      "text/plain": [
       "{'Exif.Image.Make': 'Apple',\n",
       " 'Exif.Image.Model': 'iPhone 5',\n",
       " 'Exif.Image.Orientation': '3',\n",
       " 'Exif.Image.XResolution': '72/1',\n",
       " 'Exif.Image.YResolution': '72/1',\n",
       " 'Exif.Image.ResolutionUnit': '2',\n",
       " 'Exif.Image.Software': '8.0',\n",
       " 'Exif.Image.DateTime': '2014:09:20 16:22:53',\n",
       " 'Exif.Image.YCbCrSubSampling': '2 2',\n",
       " 'Exif.Image.YCbCrPositioning': '1',\n",
       " 'Exif.Image.ExifTag': '210',\n",
       " 'Exif.Photo.ExposureTime': '1/60',\n",
       " 'Exif.Photo.FNumber': '12/5',\n",
       " 'Exif.Photo.ExposureProgram': '2',\n",
       " 'Exif.Photo.ISOSpeedRatings': '50',\n",
       " 'Exif.Photo.ExifVersion': '48 50 50 49',\n",
       " 'Exif.Photo.DateTimeOriginal': '2014:09:20 16:22:53',\n",
       " 'Exif.Photo.DateTimeDigitized': '2014:09:20 16:22:53',\n",
       " 'Exif.Photo.ComponentsConfiguration': '1 2 3 0',\n",
       " 'Exif.Photo.ShutterSpeedValue': '4761/806',\n",
       " 'Exif.Photo.ApertureValue': '4845/1918',\n",
       " 'Exif.Photo.BrightnessValue': '5891/1399',\n",
       " 'Exif.Photo.ExposureBiasValue': '0/1',\n",
       " 'Exif.Photo.MeteringMode': '5',\n",
       " 'Exif.Photo.Flash': '16',\n",
       " 'Exif.Photo.FocalLength': '103/25',\n",
       " 'Exif.Photo.SubjectArea': '1631 1223 1795 1077',\n",
       " 'Exif.Photo.MakerNote': '65 112 112 108 101 32 105 79 83 0 0 1 77 77 0 7 0 1 0 9 0 0 0 1 0 0 0 2 0 3 0 7 0 0 0 104 0 0 0 104 0 4 0 9 0 0 0 1 0 0 0 1 0 5 0 9 0 0 0 1 0 0 0 128 0 6 0 9 0 0 0 1 0 0 0 120 0 7 0 9 0 0 0 1 0 0 0 1 0 8 0 10 0 0 0 3 0 0 0 208 0 0 0 0 98 112 108 105 115 116 48 48 212 1 2 3 4 5 6 7 8 89 116 105 109 101 115 99 97 108 101 85 118 97 108 117 101 85 101 112 111 99 104 85 102 108 97 103 115 18 59 154 202 0 19 0 0 15 125 12 172 194 37 16 0 16 1 8 17 27 33 39 45 50 59 61 0 0 0 0 0 0 1 1 0 0 0 0 0 0 0 9 0 0 0 0 0 0 0 0 0 0 0 0 0 0 0 63 0 0 148 235 0 0 154 98 0 0 2 161 0 0 107 234 0 0 4 210 0 0 17 155',\n",
       " 'Exif.Photo.SubSecTimeOriginal': '054',\n",
       " 'Exif.Photo.SubSecTimeDigitized': '054',\n",
       " 'Exif.Photo.FlashpixVersion': '48 49 48 48',\n",
       " 'Exif.Photo.ColorSpace': '1',\n",
       " 'Exif.Photo.PixelXDimension': '3264',\n",
       " 'Exif.Photo.PixelYDimension': '2448',\n",
       " 'Exif.Photo.SensingMethod': '2',\n",
       " 'Exif.Photo.SceneType': '1',\n",
       " 'Exif.Photo.ExposureMode': '0',\n",
       " 'Exif.Photo.WhiteBalance': '0',\n",
       " 'Exif.Photo.FocalLengthIn35mmFilm': '33',\n",
       " 'Exif.Photo.SceneCaptureType': '0',\n",
       " 'Exif.Photo.ImageUniqueID': '9ad2a008850578bc0000000000000000',\n",
       " 'Exif.Photo.LensSpecification': '103/25 103/25 12/5 12/5',\n",
       " 'Exif.Photo.LensMake': 'Apple',\n",
       " 'Exif.Photo.LensModel': 'iPhone 5 back camera 4.12mm f/2.4',\n",
       " 'Exif.Image.GPSTag': '1054',\n",
       " 'Exif.GPSInfo.GPSVersionID': '2 2 0 0',\n",
       " 'Exif.GPSInfo.GPSLatitudeRef': 'N',\n",
       " 'Exif.GPSInfo.GPSLatitude': '52/1 13/1 4367/100',\n",
       " 'Exif.GPSInfo.GPSLongitudeRef': 'E',\n",
       " 'Exif.GPSInfo.GPSLongitude': '21/1 0/1 2057/100',\n",
       " 'Exif.GPSInfo.GPSAltitudeRef': '0',\n",
       " 'Exif.GPSInfo.GPSAltitude': '23623/209',\n",
       " 'Exif.GPSInfo.GPSTimeStamp': '0/0 0/0 0/0',\n",
       " 'Exif.GPSInfo.GPSSpeedRef': 'K',\n",
       " 'Exif.GPSInfo.GPSSpeed': '0/1',\n",
       " 'Exif.GPSInfo.GPSImgDirectionRef': 'T',\n",
       " 'Exif.GPSInfo.GPSImgDirection': '39266/159',\n",
       " 'Exif.GPSInfo.GPSDestBearingRef': 'T',\n",
       " 'Exif.GPSInfo.GPSDestBearing': '10646/159',\n",
       " 'Exif.GPSInfo.GPSDateStamp': '2014:09:263',\n",
       " 'Exif.Thumbnail.Compression': '6',\n",
       " 'Exif.Thumbnail.XResolution': '72/1',\n",
       " 'Exif.Thumbnail.YResolution': '72/1',\n",
       " 'Exif.Thumbnail.ResolutionUnit': '2',\n",
       " 'Exif.Thumbnail.JPEGInterchangeFormat': '1450',\n",
       " 'Exif.Thumbnail.JPEGInterchangeFormatLength': '5222'}"
      ]
     },
     "execution_count": 8,
     "metadata": {},
     "output_type": "execute_result"
    }
   ],
   "source": [
    "import pyexiv2\n",
    "im=pyexiv2.Image(path.as_posix())\n",
    "im.read_exif()\n",
    "# {k:v for k,v in im.read_exif().items() if k not in EXIF_TAGS_PYEXVI2}\n",
    " \n"
   ]
  },
  {
   "cell_type": "code",
   "execution_count": null,
   "id": "c77bc8ab-ebc5-4f9a-b98e-697ba503a177",
   "metadata": {},
   "outputs": [],
   "source": []
  }
 ],
 "metadata": {
  "kernelspec": {
   "display_name": "Python 3 (ipykernel)",
   "language": "python",
   "name": "python3"
  },
  "language_info": {
   "codemirror_mode": {
    "name": "ipython",
    "version": 3
   },
   "file_extension": ".py",
   "mimetype": "text/x-python",
   "name": "python",
   "nbconvert_exporter": "python",
   "pygments_lexer": "ipython3",
   "version": "3.10.4"
  }
 },
 "nbformat": 4,
 "nbformat_minor": 5
}
